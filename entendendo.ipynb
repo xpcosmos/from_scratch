{
 "cells": [
  {
   "cell_type": "code",
   "execution_count": 1,
   "metadata": {},
   "outputs": [],
   "source": [
    "import numpy as np"
   ]
  },
  {
   "cell_type": "code",
   "execution_count": 4,
   "metadata": {},
   "outputs": [],
   "source": [
    "A = np.array([[1,2,3,4,5,6,7],\n",
    "              [1.5, 3.8, 6.7, 9.0, 11.2, 13.6, 16]])"
   ]
  },
  {
   "cell_type": "code",
   "execution_count": 3,
   "metadata": {},
   "outputs": [
    {
     "data": {
      "text/plain": [
       "array([[1., 1.],\n",
       "       [1., 2.],\n",
       "       [1., 3.],\n",
       "       [1., 4.],\n",
       "       [1., 5.],\n",
       "       [1., 6.],\n",
       "       [1., 7.]])"
      ]
     },
     "execution_count": 3,
     "metadata": {},
     "output_type": "execute_result"
    }
   ],
   "source": [
    "x = np.array([1,2,3,4,5,6,7])\n",
    "np.column_stack((np.ones(len(x)), x))"
   ]
  },
  {
   "cell_type": "code",
   "execution_count": 4,
   "metadata": {},
   "outputs": [
    {
     "data": {
      "text/plain": [
       "7"
      ]
     },
     "execution_count": 4,
     "metadata": {},
     "output_type": "execute_result"
    }
   ],
   "source": [
    "np.size(x)"
   ]
  },
  {
   "cell_type": "code",
   "execution_count": 19,
   "metadata": {},
   "outputs": [
    {
     "name": "stderr",
     "output_type": "stream",
     "text": [
      "/var/folders/tf/5c5cm4z11mvb4z72rkp1jvxw0000gn/T/ipykernel_57204/3555969516.py:41: RuntimeWarning: invalid value encountered in divide\n",
      "  Q[:, j] = v / R[j, j]\n"
     ]
    },
    {
     "data": {
      "text/plain": [
       "(array([[ 0.5547002 , -0.83205029,  0.        , -1.        ,         nan,\n",
       "                 nan,         nan],\n",
       "        [ 0.83205029,  0.5547002 ,  1.        ,  0.        ,         nan,\n",
       "                 nan,         nan]]),\n",
       " array([[ 1.80277564e+00,  4.27119151e+00,  7.23883756e+00,\n",
       "          9.70725343e+00,  1.20924643e+01,  1.46440852e+01,\n",
       "          1.71957061e+01],\n",
       "        [ 0.00000000e+00,  4.43760157e-01,  1.22034043e+00,\n",
       "          1.66410059e+00,  2.05239073e+00,  2.55162090e+00,\n",
       "          3.05085108e+00],\n",
       "        [ 0.00000000e+00,  0.00000000e+00,  2.22044605e-16,\n",
       "         -1.22124533e-15, -4.44089210e-16,  4.44089210e-16,\n",
       "         -2.22044605e-16],\n",
       "        [ 0.00000000e+00,  0.00000000e+00,  0.00000000e+00,\n",
       "          1.11022302e-15,  4.44089210e-16,  0.00000000e+00,\n",
       "          8.88178420e-16],\n",
       "        [ 0.00000000e+00,  0.00000000e+00,  0.00000000e+00,\n",
       "          0.00000000e+00,  0.00000000e+00,             nan,\n",
       "                     nan],\n",
       "        [ 0.00000000e+00,  0.00000000e+00,  0.00000000e+00,\n",
       "          0.00000000e+00,  0.00000000e+00,             nan,\n",
       "                     nan],\n",
       "        [ 0.00000000e+00,  0.00000000e+00,  0.00000000e+00,\n",
       "          0.00000000e+00,  0.00000000e+00,  0.00000000e+00,\n",
       "                     nan]]))"
      ]
     },
     "execution_count": 19,
     "metadata": {},
     "output_type": "execute_result"
    }
   ],
   "source": [
    "\n",
    "\n",
    "def qr_decomposition(A):\n",
    "    # Extraindo dimenssões da matriz A\n",
    "    m, n = A.shape\n",
    "    \n",
    "    \n",
    "    # Definição de matriz com zeros de dimenssões adequadas       \n",
    "    Q = np.zeros((m, n)) # Q será uma matriz de tamanho [m] e [n]\n",
    "    R = np.zeros((n, n)) # R será uma matriz quadrada\n",
    "    \n",
    "    \n",
    "    # Para j na faixa de n:\n",
    "    for j in range(n): \n",
    "        \n",
    "        # Variável v = todas as linhas de A e coluna j, sendo [v] \n",
    "        #   matrizes compostas por (x_i,  y_i)\n",
    "        v = A[:, j]\n",
    "        \n",
    "        # Para i na faixa de j:\n",
    "        for i in range(j):\n",
    "            \n",
    "            # Matriz R de linha i e coluna j = produto escalar de todas as linha de Q\n",
    "            #   de coluna i, estando i na faixa de 0-j com todas as linhas de A e coluna\n",
    "            #   j, estando j na faixa de 0-n.\n",
    "            \n",
    "            # Matriz [R] (triangular superior) será será definida pelo produto escalar da\n",
    "            #   matriz [Q] com matriz v, sendo que suas posições são definidas por i e j.\n",
    "            R[i, j] = np.dot(Q[:, i], v) \n",
    "            \n",
    "            # matriz v, comporta por x_i e y_i definida por matriz v subtraído matriz\n",
    "            #   [R] (triangular superior) de índices (i, j) multiplicado por todas as linhas\n",
    "            #    da coluna i da matriz ortogonal [Q]               \n",
    "            v = v - R[i, j] * Q[:, i]\n",
    "            \n",
    "        # Matriz [R](j,j) é igual a norma de Frobenius do vetor v (todas as linhas de A e coluna j)\n",
    "        # (...)\n",
    "        # Dado um matriz A = (1,2) e B = (3, 4), a norma de Frobenius vai ser: ⎷(1² + 2² + 3² + 4²).\n",
    "        # Por definição, a norma é definida pela raiz quadrada da soma dos elementos das matrizes elevados ao quadrado.\n",
    "        R[j, j] = np.linalg.norm(v)\n",
    "        \n",
    "        # As linhas da coluna j da matriz ortogonal [Q] será dado pelo vetor v | v = v - R[i, j] * Q[:, i]\n",
    "        #   dividido pelo vetor triangular superior [R] (j, j).\n",
    "        Q[:, j] = v / R[j, j]\n",
    "        \n",
    "    # Retorna matriz ortogonal Q e matriz triangular superior R.\n",
    "    return Q, R\n",
    "\n",
    "qr_decomposition(A)"
   ]
  }
 ],
 "metadata": {
  "kernelspec": {
   "display_name": ".env",
   "language": "python",
   "name": "python3"
  },
  "language_info": {
   "codemirror_mode": {
    "name": "ipython",
    "version": 3
   },
   "file_extension": ".py",
   "mimetype": "text/x-python",
   "name": "python",
   "nbconvert_exporter": "python",
   "pygments_lexer": "ipython3",
   "version": "3.10.5"
  },
  "orig_nbformat": 4
 },
 "nbformat": 4,
 "nbformat_minor": 2
}
